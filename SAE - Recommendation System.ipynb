{
 "cells": [
  {
   "cell_type": "code",
   "execution_count": 1,
   "metadata": {},
   "outputs": [],
   "source": [
    "# Import librairies\n",
    "import numpy as np\n",
    "import pandas as pd\n",
    "\n",
    "import torch\n",
    "import torch.nn as nn\n",
    "import torch.nn.parallel\n",
    "import torch.optim as optim\n",
    "import torch.utils.data\n",
    "from torch.autograd import Variable"
   ]
  },
  {
   "cell_type": "code",
   "execution_count": 2,
   "metadata": {},
   "outputs": [],
   "source": [
    "# Import datasets\n",
    "movies = pd.read_csv('ml-1m/movies.dat', sep='::', header=None, engine='python', encoding='latin-1')\n",
    "users = pd.read_csv('ml-1m/users.dat', sep='::', header=None, engine='python', encoding='latin-1')\n",
    "ratings = pd.read_csv('ml-1m/ratings.dat', sep='::', header=None, engine='python', encoding='latin-1')"
   ]
  },
  {
   "cell_type": "code",
   "execution_count": 3,
   "metadata": {},
   "outputs": [
    {
     "data": {
      "text/html": [
       "<div>\n",
       "<style scoped>\n",
       "    .dataframe tbody tr th:only-of-type {\n",
       "        vertical-align: middle;\n",
       "    }\n",
       "\n",
       "    .dataframe tbody tr th {\n",
       "        vertical-align: top;\n",
       "    }\n",
       "\n",
       "    .dataframe thead th {\n",
       "        text-align: right;\n",
       "    }\n",
       "</style>\n",
       "<table border=\"1\" class=\"dataframe\">\n",
       "  <thead>\n",
       "    <tr style=\"text-align: right;\">\n",
       "      <th></th>\n",
       "      <th>0</th>\n",
       "      <th>1</th>\n",
       "      <th>2</th>\n",
       "    </tr>\n",
       "  </thead>\n",
       "  <tbody>\n",
       "    <tr>\n",
       "      <th>0</th>\n",
       "      <td>1</td>\n",
       "      <td>Toy Story (1995)</td>\n",
       "      <td>Animation|Children's|Comedy</td>\n",
       "    </tr>\n",
       "    <tr>\n",
       "      <th>1</th>\n",
       "      <td>2</td>\n",
       "      <td>Jumanji (1995)</td>\n",
       "      <td>Adventure|Children's|Fantasy</td>\n",
       "    </tr>\n",
       "    <tr>\n",
       "      <th>2</th>\n",
       "      <td>3</td>\n",
       "      <td>Grumpier Old Men (1995)</td>\n",
       "      <td>Comedy|Romance</td>\n",
       "    </tr>\n",
       "    <tr>\n",
       "      <th>3</th>\n",
       "      <td>4</td>\n",
       "      <td>Waiting to Exhale (1995)</td>\n",
       "      <td>Comedy|Drama</td>\n",
       "    </tr>\n",
       "    <tr>\n",
       "      <th>4</th>\n",
       "      <td>5</td>\n",
       "      <td>Father of the Bride Part II (1995)</td>\n",
       "      <td>Comedy</td>\n",
       "    </tr>\n",
       "  </tbody>\n",
       "</table>\n",
       "</div>"
      ],
      "text/plain": [
       "   0                                   1                             2\n",
       "0  1                    Toy Story (1995)   Animation|Children's|Comedy\n",
       "1  2                      Jumanji (1995)  Adventure|Children's|Fantasy\n",
       "2  3             Grumpier Old Men (1995)                Comedy|Romance\n",
       "3  4            Waiting to Exhale (1995)                  Comedy|Drama\n",
       "4  5  Father of the Bride Part II (1995)                        Comedy"
      ]
     },
     "execution_count": 3,
     "metadata": {},
     "output_type": "execute_result"
    }
   ],
   "source": [
    "movies.head()"
   ]
  },
  {
   "cell_type": "code",
   "execution_count": 4,
   "metadata": {},
   "outputs": [
    {
     "data": {
      "text/html": [
       "<div>\n",
       "<style scoped>\n",
       "    .dataframe tbody tr th:only-of-type {\n",
       "        vertical-align: middle;\n",
       "    }\n",
       "\n",
       "    .dataframe tbody tr th {\n",
       "        vertical-align: top;\n",
       "    }\n",
       "\n",
       "    .dataframe thead th {\n",
       "        text-align: right;\n",
       "    }\n",
       "</style>\n",
       "<table border=\"1\" class=\"dataframe\">\n",
       "  <thead>\n",
       "    <tr style=\"text-align: right;\">\n",
       "      <th></th>\n",
       "      <th>0</th>\n",
       "      <th>1</th>\n",
       "      <th>2</th>\n",
       "      <th>3</th>\n",
       "      <th>4</th>\n",
       "    </tr>\n",
       "  </thead>\n",
       "  <tbody>\n",
       "    <tr>\n",
       "      <th>0</th>\n",
       "      <td>1</td>\n",
       "      <td>F</td>\n",
       "      <td>1</td>\n",
       "      <td>10</td>\n",
       "      <td>48067</td>\n",
       "    </tr>\n",
       "    <tr>\n",
       "      <th>1</th>\n",
       "      <td>2</td>\n",
       "      <td>M</td>\n",
       "      <td>56</td>\n",
       "      <td>16</td>\n",
       "      <td>70072</td>\n",
       "    </tr>\n",
       "    <tr>\n",
       "      <th>2</th>\n",
       "      <td>3</td>\n",
       "      <td>M</td>\n",
       "      <td>25</td>\n",
       "      <td>15</td>\n",
       "      <td>55117</td>\n",
       "    </tr>\n",
       "    <tr>\n",
       "      <th>3</th>\n",
       "      <td>4</td>\n",
       "      <td>M</td>\n",
       "      <td>45</td>\n",
       "      <td>7</td>\n",
       "      <td>02460</td>\n",
       "    </tr>\n",
       "    <tr>\n",
       "      <th>4</th>\n",
       "      <td>5</td>\n",
       "      <td>M</td>\n",
       "      <td>25</td>\n",
       "      <td>20</td>\n",
       "      <td>55455</td>\n",
       "    </tr>\n",
       "  </tbody>\n",
       "</table>\n",
       "</div>"
      ],
      "text/plain": [
       "   0  1   2   3      4\n",
       "0  1  F   1  10  48067\n",
       "1  2  M  56  16  70072\n",
       "2  3  M  25  15  55117\n",
       "3  4  M  45   7  02460\n",
       "4  5  M  25  20  55455"
      ]
     },
     "execution_count": 4,
     "metadata": {},
     "output_type": "execute_result"
    }
   ],
   "source": [
    "users.head()"
   ]
  },
  {
   "cell_type": "code",
   "execution_count": 5,
   "metadata": {},
   "outputs": [
    {
     "data": {
      "text/html": [
       "<div>\n",
       "<style scoped>\n",
       "    .dataframe tbody tr th:only-of-type {\n",
       "        vertical-align: middle;\n",
       "    }\n",
       "\n",
       "    .dataframe tbody tr th {\n",
       "        vertical-align: top;\n",
       "    }\n",
       "\n",
       "    .dataframe thead th {\n",
       "        text-align: right;\n",
       "    }\n",
       "</style>\n",
       "<table border=\"1\" class=\"dataframe\">\n",
       "  <thead>\n",
       "    <tr style=\"text-align: right;\">\n",
       "      <th></th>\n",
       "      <th>0</th>\n",
       "      <th>1</th>\n",
       "      <th>2</th>\n",
       "      <th>3</th>\n",
       "    </tr>\n",
       "  </thead>\n",
       "  <tbody>\n",
       "    <tr>\n",
       "      <th>0</th>\n",
       "      <td>1</td>\n",
       "      <td>1193</td>\n",
       "      <td>5</td>\n",
       "      <td>978300760</td>\n",
       "    </tr>\n",
       "    <tr>\n",
       "      <th>1</th>\n",
       "      <td>1</td>\n",
       "      <td>661</td>\n",
       "      <td>3</td>\n",
       "      <td>978302109</td>\n",
       "    </tr>\n",
       "    <tr>\n",
       "      <th>2</th>\n",
       "      <td>1</td>\n",
       "      <td>914</td>\n",
       "      <td>3</td>\n",
       "      <td>978301968</td>\n",
       "    </tr>\n",
       "    <tr>\n",
       "      <th>3</th>\n",
       "      <td>1</td>\n",
       "      <td>3408</td>\n",
       "      <td>4</td>\n",
       "      <td>978300275</td>\n",
       "    </tr>\n",
       "    <tr>\n",
       "      <th>4</th>\n",
       "      <td>1</td>\n",
       "      <td>2355</td>\n",
       "      <td>5</td>\n",
       "      <td>978824291</td>\n",
       "    </tr>\n",
       "  </tbody>\n",
       "</table>\n",
       "</div>"
      ],
      "text/plain": [
       "   0     1  2          3\n",
       "0  1  1193  5  978300760\n",
       "1  1   661  3  978302109\n",
       "2  1   914  3  978301968\n",
       "3  1  3408  4  978300275\n",
       "4  1  2355  5  978824291"
      ]
     },
     "execution_count": 5,
     "metadata": {},
     "output_type": "execute_result"
    }
   ],
   "source": [
    "ratings.head()"
   ]
  },
  {
   "cell_type": "code",
   "execution_count": 6,
   "metadata": {},
   "outputs": [],
   "source": [
    "# Training_set & test_set preparation\n",
    "training_set = pd.read_csv('ml-100k/u1.base', delimiter='\\t', header=None)\n",
    "test_set = pd.read_csv('ml-100k/u1.test', delimiter='\\t', header=None)"
   ]
  },
  {
   "cell_type": "code",
   "execution_count": 7,
   "metadata": {},
   "outputs": [
    {
     "data": {
      "text/html": [
       "<div>\n",
       "<style scoped>\n",
       "    .dataframe tbody tr th:only-of-type {\n",
       "        vertical-align: middle;\n",
       "    }\n",
       "\n",
       "    .dataframe tbody tr th {\n",
       "        vertical-align: top;\n",
       "    }\n",
       "\n",
       "    .dataframe thead th {\n",
       "        text-align: right;\n",
       "    }\n",
       "</style>\n",
       "<table border=\"1\" class=\"dataframe\">\n",
       "  <thead>\n",
       "    <tr style=\"text-align: right;\">\n",
       "      <th></th>\n",
       "      <th>0</th>\n",
       "      <th>1</th>\n",
       "      <th>2</th>\n",
       "      <th>3</th>\n",
       "    </tr>\n",
       "  </thead>\n",
       "  <tbody>\n",
       "    <tr>\n",
       "      <th>0</th>\n",
       "      <td>1</td>\n",
       "      <td>1</td>\n",
       "      <td>5</td>\n",
       "      <td>874965758</td>\n",
       "    </tr>\n",
       "    <tr>\n",
       "      <th>1</th>\n",
       "      <td>1</td>\n",
       "      <td>2</td>\n",
       "      <td>3</td>\n",
       "      <td>876893171</td>\n",
       "    </tr>\n",
       "    <tr>\n",
       "      <th>2</th>\n",
       "      <td>1</td>\n",
       "      <td>3</td>\n",
       "      <td>4</td>\n",
       "      <td>878542960</td>\n",
       "    </tr>\n",
       "    <tr>\n",
       "      <th>3</th>\n",
       "      <td>1</td>\n",
       "      <td>4</td>\n",
       "      <td>3</td>\n",
       "      <td>876893119</td>\n",
       "    </tr>\n",
       "    <tr>\n",
       "      <th>4</th>\n",
       "      <td>1</td>\n",
       "      <td>5</td>\n",
       "      <td>3</td>\n",
       "      <td>889751712</td>\n",
       "    </tr>\n",
       "  </tbody>\n",
       "</table>\n",
       "</div>"
      ],
      "text/plain": [
       "   0  1  2          3\n",
       "0  1  1  5  874965758\n",
       "1  1  2  3  876893171\n",
       "2  1  3  4  878542960\n",
       "3  1  4  3  876893119\n",
       "4  1  5  3  889751712"
      ]
     },
     "execution_count": 7,
     "metadata": {},
     "output_type": "execute_result"
    }
   ],
   "source": [
    "training_set.head()"
   ]
  },
  {
   "cell_type": "code",
   "execution_count": 8,
   "metadata": {},
   "outputs": [
    {
     "data": {
      "text/html": [
       "<div>\n",
       "<style scoped>\n",
       "    .dataframe tbody tr th:only-of-type {\n",
       "        vertical-align: middle;\n",
       "    }\n",
       "\n",
       "    .dataframe tbody tr th {\n",
       "        vertical-align: top;\n",
       "    }\n",
       "\n",
       "    .dataframe thead th {\n",
       "        text-align: right;\n",
       "    }\n",
       "</style>\n",
       "<table border=\"1\" class=\"dataframe\">\n",
       "  <thead>\n",
       "    <tr style=\"text-align: right;\">\n",
       "      <th></th>\n",
       "      <th>0</th>\n",
       "      <th>1</th>\n",
       "      <th>2</th>\n",
       "      <th>3</th>\n",
       "    </tr>\n",
       "  </thead>\n",
       "  <tbody>\n",
       "    <tr>\n",
       "      <th>0</th>\n",
       "      <td>1</td>\n",
       "      <td>6</td>\n",
       "      <td>5</td>\n",
       "      <td>887431973</td>\n",
       "    </tr>\n",
       "    <tr>\n",
       "      <th>1</th>\n",
       "      <td>1</td>\n",
       "      <td>10</td>\n",
       "      <td>3</td>\n",
       "      <td>875693118</td>\n",
       "    </tr>\n",
       "    <tr>\n",
       "      <th>2</th>\n",
       "      <td>1</td>\n",
       "      <td>12</td>\n",
       "      <td>5</td>\n",
       "      <td>878542960</td>\n",
       "    </tr>\n",
       "    <tr>\n",
       "      <th>3</th>\n",
       "      <td>1</td>\n",
       "      <td>14</td>\n",
       "      <td>5</td>\n",
       "      <td>874965706</td>\n",
       "    </tr>\n",
       "    <tr>\n",
       "      <th>4</th>\n",
       "      <td>1</td>\n",
       "      <td>17</td>\n",
       "      <td>3</td>\n",
       "      <td>875073198</td>\n",
       "    </tr>\n",
       "  </tbody>\n",
       "</table>\n",
       "</div>"
      ],
      "text/plain": [
       "   0   1  2          3\n",
       "0  1   6  5  887431973\n",
       "1  1  10  3  875693118\n",
       "2  1  12  5  878542960\n",
       "3  1  14  5  874965706\n",
       "4  1  17  3  875073198"
      ]
     },
     "execution_count": 8,
     "metadata": {},
     "output_type": "execute_result"
    }
   ],
   "source": [
    "test_set.head()"
   ]
  },
  {
   "cell_type": "code",
   "execution_count": 9,
   "metadata": {},
   "outputs": [],
   "source": [
    "# Transform dataframes to arrays\n",
    "training_set = np.array(training_set, dtype='int')\n",
    "test_set = np.array(test_set, dtype='int')"
   ]
  },
  {
   "cell_type": "code",
   "execution_count": 10,
   "metadata": {},
   "outputs": [
    {
     "data": {
      "text/plain": [
       "array([[        1,         1,         5, 874965758],\n",
       "       [        1,         2,         3, 876893171],\n",
       "       [        1,         3,         4, 878542960],\n",
       "       [        1,         4,         3, 876893119],\n",
       "       [        1,         5,         3, 889751712]])"
      ]
     },
     "execution_count": 10,
     "metadata": {},
     "output_type": "execute_result"
    }
   ],
   "source": [
    "training_set[:5]"
   ]
  },
  {
   "cell_type": "code",
   "execution_count": 11,
   "metadata": {},
   "outputs": [
    {
     "data": {
      "text/plain": [
       "array([[        1,         6,         5, 887431973],\n",
       "       [        1,        10,         3, 875693118],\n",
       "       [        1,        12,         5, 878542960],\n",
       "       [        1,        14,         5, 874965706],\n",
       "       [        1,        17,         3, 875073198]])"
      ]
     },
     "execution_count": 11,
     "metadata": {},
     "output_type": "execute_result"
    }
   ],
   "source": [
    "test_set[:5]"
   ]
  },
  {
   "cell_type": "code",
   "execution_count": 12,
   "metadata": {},
   "outputs": [],
   "source": [
    "# Get the number of users & films\n",
    "nb_users = int(max(max(training_set[:, 0]), max(test_set[:, 0])))\n",
    "nb_movies = int(max(max(training_set[:, 1]), max(test_set[:, 1])))"
   ]
  },
  {
   "cell_type": "code",
   "execution_count": 13,
   "metadata": {},
   "outputs": [
    {
     "name": "stdout",
     "output_type": "stream",
     "text": [
      "Number of users: 943\n",
      "Number of movies: 1682\n"
     ]
    }
   ],
   "source": [
    "print('Number of users: {}\\nNumber of movies: {}'.format(nb_users, nb_movies))"
   ]
  },
  {
   "cell_type": "code",
   "execution_count": 14,
   "metadata": {},
   "outputs": [],
   "source": [
    "# Convert datas to matrix\n",
    "def convert(data):\n",
    "    new_data = []\n",
    "    for id_users in range(1, nb_users+1):\n",
    "        id_movies = data[data[:, 0] == id_users, 1]\n",
    "        id_ratings = data[data[:, 0] == id_users, 2]\n",
    "        ratings = np.zeros(nb_movies)\n",
    "        ratings[id_movies-1] = id_ratings\n",
    "        new_data.append(list(ratings))\n",
    "    return new_data"
   ]
  },
  {
   "cell_type": "code",
   "execution_count": 15,
   "metadata": {},
   "outputs": [],
   "source": [
    "training_set = convert(training_set)\n",
    "test_set = convert(test_set)"
   ]
  },
  {
   "cell_type": "code",
   "execution_count": 16,
   "metadata": {},
   "outputs": [
    {
     "data": {
      "text/plain": [
       "5.0"
      ]
     },
     "execution_count": 16,
     "metadata": {},
     "output_type": "execute_result"
    }
   ],
   "source": [
    "training_set[0][0]"
   ]
  },
  {
   "cell_type": "code",
   "execution_count": 17,
   "metadata": {},
   "outputs": [
    {
     "data": {
      "text/plain": [
       "0.0"
      ]
     },
     "execution_count": 17,
     "metadata": {},
     "output_type": "execute_result"
    }
   ],
   "source": [
    "test_set[0][0]"
   ]
  },
  {
   "cell_type": "code",
   "execution_count": 18,
   "metadata": {},
   "outputs": [],
   "source": [
    "# Convert datas to tensors\n",
    "training_set = torch.FloatTensor(training_set)\n",
    "test_set = torch.FloatTensor(test_set)"
   ]
  },
  {
   "cell_type": "code",
   "execution_count": 19,
   "metadata": {},
   "outputs": [
    {
     "data": {
      "text/plain": [
       "tensor([5., 3., 4.,  ..., 0., 0., 0.])"
      ]
     },
     "execution_count": 19,
     "metadata": {},
     "output_type": "execute_result"
    }
   ],
   "source": [
    "training_set[0]"
   ]
  },
  {
   "cell_type": "code",
   "execution_count": 20,
   "metadata": {},
   "outputs": [
    {
     "data": {
      "text/plain": [
       "tensor([0., 0., 0.,  ..., 0., 0., 0.])"
      ]
     },
     "execution_count": 20,
     "metadata": {},
     "output_type": "execute_result"
    }
   ],
   "source": [
    "test_set[0]"
   ]
  },
  {
   "cell_type": "code",
   "execution_count": 25,
   "metadata": {},
   "outputs": [],
   "source": [
    "# Create the neurons network\n",
    "class SAE(nn.Module):\n",
    "    \n",
    "    def __init__(self):\n",
    "        super(SAE, self).__init__()\n",
    "        self.fc1 = nn.Linear(nb_movies, 20)\n",
    "        self.fc2 = nn.Linear(20, 10)\n",
    "        self.fc3 = nn.Linear(10, 20)\n",
    "        self.fc4 = nn.Linear(20, nb_movies)\n",
    "        self.activation = nn.Sigmoid()\n",
    "        \n",
    "    def forward(self, x):\n",
    "        x = self.activation(self.fc1(x))\n",
    "        x = self.activation(self.fc2(x))\n",
    "        x = self.activation(self.fc3(x))\n",
    "        x = self.fc4(x)\n",
    "        return x"
   ]
  },
  {
   "cell_type": "code",
   "execution_count": 26,
   "metadata": {},
   "outputs": [],
   "source": [
    "# Instance class\n",
    "sae = SAE()"
   ]
  },
  {
   "cell_type": "code",
   "execution_count": 27,
   "metadata": {},
   "outputs": [],
   "source": [
    "# Criterion & optimizer\n",
    "criterion = nn.MSELoss()\n",
    "optimizer = optim.RMSprop(sae.parameters(), lr=0.01, weight_decay=0.5)"
   ]
  },
  {
   "cell_type": "code",
   "execution_count": 30,
   "metadata": {},
   "outputs": [
    {
     "name": "stdout",
     "output_type": "stream",
     "text": [
      "epoch: 1, Loss: 1.7607659557801238\n",
      "epoch: 2, Loss: 1.096450477990699\n",
      "epoch: 3, Loss: 1.0532403592614283\n",
      "epoch: 4, Loss: 1.0382185609567962\n",
      "epoch: 5, Loss: 1.0310376309171847\n",
      "epoch: 6, Loss: 1.0266541647937049\n",
      "epoch: 7, Loss: 1.0239033228538925\n",
      "epoch: 8, Loss: 1.0218336333070217\n",
      "epoch: 9, Loss: 1.020944113399351\n",
      "epoch: 10, Loss: 1.0196726866313186\n",
      "epoch: 11, Loss: 1.0189782162706758\n",
      "epoch: 12, Loss: 1.0181537160585732\n",
      "epoch: 13, Loss: 1.0180544861818686\n",
      "epoch: 14, Loss: 1.017577125259914\n",
      "epoch: 15, Loss: 1.0171057047130045\n",
      "epoch: 16, Loss: 1.0170217125011192\n",
      "epoch: 17, Loss: 1.0165662463586052\n",
      "epoch: 18, Loss: 1.0166250542536384\n",
      "epoch: 19, Loss: 1.0164282518360326\n",
      "epoch: 20, Loss: 1.0162050068726889\n",
      "epoch: 21, Loss: 1.0162411627231325\n",
      "epoch: 22, Loss: 1.0160402007304383\n",
      "epoch: 23, Loss: 1.0159720278317468\n",
      "epoch: 24, Loss: 1.0156495975131694\n",
      "epoch: 25, Loss: 1.0158477197957914\n",
      "epoch: 26, Loss: 1.0153458747675408\n",
      "epoch: 27, Loss: 1.0152651116566385\n",
      "epoch: 28, Loss: 1.0151695295366996\n",
      "epoch: 29, Loss: 1.0125914798665354\n",
      "epoch: 30, Loss: 1.0112254419976139\n",
      "epoch: 31, Loss: 1.0098374857243264\n",
      "epoch: 32, Loss: 1.0071687601964954\n",
      "epoch: 33, Loss: 1.0066134331291763\n",
      "epoch: 34, Loss: 1.0041823414407902\n",
      "epoch: 35, Loss: 1.0034255979628959\n",
      "epoch: 36, Loss: 1.0000961519112996\n",
      "epoch: 37, Loss: 0.998315967990603\n",
      "epoch: 38, Loss: 0.9960119059743101\n",
      "epoch: 39, Loss: 0.9965362811003563\n",
      "epoch: 40, Loss: 0.9932612711989778\n",
      "epoch: 41, Loss: 0.9924684285471675\n",
      "epoch: 42, Loss: 0.9896739411328604\n",
      "epoch: 43, Loss: 0.9881630692824329\n",
      "epoch: 44, Loss: 0.9869866287459323\n",
      "epoch: 45, Loss: 0.9851652825179484\n",
      "epoch: 46, Loss: 0.9848380683911248\n",
      "epoch: 47, Loss: 0.9847379396354983\n",
      "epoch: 48, Loss: 0.9796561806722596\n",
      "epoch: 49, Loss: 0.983347133176706\n",
      "epoch: 50, Loss: 0.9813680598788007\n",
      "epoch: 51, Loss: 0.9805643583535655\n",
      "epoch: 52, Loss: 0.9750176291238681\n",
      "epoch: 53, Loss: 0.9763001089685734\n",
      "epoch: 54, Loss: 0.9735804550438958\n",
      "epoch: 55, Loss: 0.9750518076105552\n",
      "epoch: 56, Loss: 0.976526646518683\n",
      "epoch: 57, Loss: 0.9762305324605867\n",
      "epoch: 58, Loss: 0.9693703768514174\n",
      "epoch: 59, Loss: 0.9703308075385816\n",
      "epoch: 60, Loss: 0.9672940819505694\n",
      "epoch: 61, Loss: 0.9683600431024422\n",
      "epoch: 62, Loss: 0.9662285393171499\n",
      "epoch: 63, Loss: 0.9661594687144824\n",
      "epoch: 64, Loss: 0.9619702060173755\n",
      "epoch: 65, Loss: 0.9648846447210381\n",
      "epoch: 66, Loss: 0.9607690786939026\n",
      "epoch: 67, Loss: 0.9591940221782381\n",
      "epoch: 68, Loss: 0.9574912140851176\n",
      "epoch: 69, Loss: 0.9556806786643162\n",
      "epoch: 70, Loss: 0.9521912907797013\n",
      "epoch: 71, Loss: 0.9539558745730816\n",
      "epoch: 72, Loss: 0.9520742506293973\n",
      "epoch: 73, Loss: 0.9518901045549312\n",
      "epoch: 74, Loss: 0.9498010975944969\n",
      "epoch: 75, Loss: 0.9519636870179264\n",
      "epoch: 76, Loss: 0.9492707713874768\n",
      "epoch: 77, Loss: 0.9492402550210917\n",
      "epoch: 78, Loss: 0.947342259297249\n",
      "epoch: 79, Loss: 0.9454684784537783\n",
      "epoch: 80, Loss: 0.9445560522915692\n",
      "epoch: 81, Loss: 0.9442755237401307\n",
      "epoch: 82, Loss: 0.94179217535936\n",
      "epoch: 83, Loss: 0.9415745908316435\n",
      "epoch: 84, Loss: 0.9415741326088627\n",
      "epoch: 85, Loss: 0.940694442044377\n",
      "epoch: 86, Loss: 0.9387473393176914\n",
      "epoch: 87, Loss: 0.9404900632235019\n",
      "epoch: 88, Loss: 0.9391302750919629\n",
      "epoch: 89, Loss: 0.9393157113060983\n",
      "epoch: 90, Loss: 0.936191882263469\n",
      "epoch: 91, Loss: 0.9377011368414652\n",
      "epoch: 92, Loss: 0.9362310123440798\n",
      "epoch: 93, Loss: 0.9364596739411527\n",
      "epoch: 94, Loss: 0.9359494711098915\n",
      "epoch: 95, Loss: 0.9349600386972041\n",
      "epoch: 96, Loss: 0.9342957656074217\n",
      "epoch: 97, Loss: 0.9339124907803209\n",
      "epoch: 98, Loss: 0.9333869612663032\n",
      "epoch: 99, Loss: 0.9339336251741752\n",
      "epoch: 100, Loss: 0.9330006421201223\n",
      "epoch: 101, Loss: 0.93340329300577\n",
      "epoch: 102, Loss: 0.9329647444880543\n",
      "epoch: 103, Loss: 0.9315557619229027\n",
      "epoch: 104, Loss: 0.9310371122901971\n",
      "epoch: 105, Loss: 0.9317431445634502\n",
      "epoch: 106, Loss: 0.9305589207964032\n",
      "epoch: 107, Loss: 0.9308878641070114\n",
      "epoch: 108, Loss: 0.9288098708182776\n",
      "epoch: 109, Loss: 0.930883226191101\n",
      "epoch: 110, Loss: 0.9294151069577821\n",
      "epoch: 111, Loss: 0.9288491011293761\n",
      "epoch: 112, Loss: 0.9283963386916204\n",
      "epoch: 113, Loss: 0.9291518153162843\n",
      "epoch: 114, Loss: 0.9279603574608435\n",
      "epoch: 115, Loss: 0.9284069996605901\n",
      "epoch: 116, Loss: 0.9268581966792021\n",
      "epoch: 117, Loss: 0.9273864053795793\n",
      "epoch: 118, Loss: 0.9279054687028232\n",
      "epoch: 119, Loss: 0.9282404590076995\n",
      "epoch: 120, Loss: 0.9264450694459004\n",
      "epoch: 121, Loss: 0.9269474285241655\n",
      "epoch: 122, Loss: 0.925922669304888\n",
      "epoch: 123, Loss: 0.9271411625355461\n",
      "epoch: 124, Loss: 0.925113046769086\n",
      "epoch: 125, Loss: 0.9257450221864585\n",
      "epoch: 126, Loss: 0.9248627312745696\n",
      "epoch: 127, Loss: 0.9260555941044307\n",
      "epoch: 128, Loss: 0.9238566102164564\n",
      "epoch: 129, Loss: 0.9244662262423582\n",
      "epoch: 130, Loss: 0.9232133812172995\n",
      "epoch: 131, Loss: 0.9243283080733228\n",
      "epoch: 132, Loss: 0.9236714975496083\n",
      "epoch: 133, Loss: 0.9232878741062944\n",
      "epoch: 134, Loss: 0.9225122633573295\n",
      "epoch: 135, Loss: 0.9231296894512486\n",
      "epoch: 136, Loss: 0.921714883244566\n",
      "epoch: 137, Loss: 0.9234351289755164\n",
      "epoch: 138, Loss: 0.921534550987058\n",
      "epoch: 139, Loss: 0.9225280921336322\n",
      "epoch: 140, Loss: 0.921796164334531\n",
      "epoch: 141, Loss: 0.9220296967445489\n",
      "epoch: 142, Loss: 0.9210441516680599\n",
      "epoch: 143, Loss: 0.9216469252644014\n",
      "epoch: 144, Loss: 0.9204689285227925\n",
      "epoch: 145, Loss: 0.9216611662401331\n",
      "epoch: 146, Loss: 0.9200164421101817\n",
      "epoch: 147, Loss: 0.9209681748559472\n",
      "epoch: 148, Loss: 0.9199000583441378\n",
      "epoch: 149, Loss: 0.9202251756940044\n",
      "epoch: 150, Loss: 0.91959603506181\n",
      "epoch: 151, Loss: 0.9200421671836151\n",
      "epoch: 152, Loss: 0.9191552054256081\n",
      "epoch: 153, Loss: 0.9199134390915423\n",
      "epoch: 154, Loss: 0.9184401320303678\n",
      "epoch: 155, Loss: 0.9194995675667276\n",
      "epoch: 156, Loss: 0.9177978179298125\n",
      "epoch: 157, Loss: 0.9189901342812292\n",
      "epoch: 158, Loss: 0.9181994283041822\n",
      "epoch: 159, Loss: 0.9185898338550338\n",
      "epoch: 160, Loss: 0.9178131689312062\n",
      "epoch: 161, Loss: 0.9185054327147198\n",
      "epoch: 162, Loss: 0.9171454640717267\n",
      "epoch: 163, Loss: 0.9178645321954894\n",
      "epoch: 164, Loss: 0.9170939961808797\n",
      "epoch: 165, Loss: 0.9180457872883444\n",
      "epoch: 166, Loss: 0.9168383440322276\n",
      "epoch: 167, Loss: 0.917572956648133\n",
      "epoch: 168, Loss: 0.9164262356107095\n",
      "epoch: 169, Loss: 0.9173300606802297\n",
      "epoch: 170, Loss: 0.9160652153498864\n",
      "epoch: 171, Loss: 0.9169952943822665\n",
      "epoch: 172, Loss: 0.9155525088176165\n",
      "epoch: 173, Loss: 0.9163847257082229\n",
      "epoch: 174, Loss: 0.9154216887939598\n",
      "epoch: 175, Loss: 0.9164036314522801\n",
      "epoch: 176, Loss: 0.9151406842079586\n",
      "epoch: 177, Loss: 0.9164458960245444\n",
      "epoch: 178, Loss: 0.9147487510476122\n",
      "epoch: 179, Loss: 0.9159411978734225\n",
      "epoch: 180, Loss: 0.9145783450489128\n",
      "epoch: 181, Loss: 0.9156097480472735\n",
      "epoch: 182, Loss: 0.9143551769214958\n",
      "epoch: 183, Loss: 0.9149174804784496\n",
      "epoch: 184, Loss: 0.914005073518608\n",
      "epoch: 185, Loss: 0.9151915280536334\n",
      "epoch: 186, Loss: 0.9137359267771045\n",
      "epoch: 187, Loss: 0.9148817247625496\n",
      "epoch: 188, Loss: 0.9135432895930048\n",
      "epoch: 189, Loss: 0.9149696158657501\n",
      "epoch: 190, Loss: 0.9133776010111561\n",
      "epoch: 191, Loss: 0.9141220972753835\n",
      "epoch: 192, Loss: 0.9134643529699706\n",
      "epoch: 193, Loss: 0.9143203027500935\n",
      "epoch: 194, Loss: 0.913020464808643\n",
      "epoch: 195, Loss: 0.9141126865648299\n",
      "epoch: 196, Loss: 0.9133949746721741\n",
      "epoch: 197, Loss: 0.9138149316606095\n",
      "epoch: 198, Loss: 0.9128481309221033\n",
      "epoch: 199, Loss: 0.9134678654600688\n",
      "epoch: 200, Loss: 0.9122246078490049\n"
     ]
    }
   ],
   "source": [
    "# Training\n",
    "nb_epochs = 200\n",
    "\n",
    "for epoch in range(1, nb_epochs + 1):\n",
    "    train_loss = 0\n",
    "    s = 0.\n",
    "    for id_user in range(nb_users):\n",
    "        input = Variable(training_set[id_user]).unsqueeze(0)\n",
    "        target = input.clone()\n",
    "        if torch.sum(target.data > 0) > 0:\n",
    "            output = sae(input)\n",
    "            target.require_grad = False\n",
    "            output[target == 0] = 0\n",
    "            loss = criterion(output, target)\n",
    "            mean_corrector = nb_movies / float(torch.sum(target.data > 0)+1e-10)\n",
    "            loss.backward()\n",
    "            train_loss += np.sqrt(loss.item() * mean_corrector)\n",
    "            s += 1.\n",
    "            optimizer.step()\n",
    "    print('epoch: {}, Loss: {}'.format(epoch, train_loss/s))"
   ]
  },
  {
   "cell_type": "code",
   "execution_count": 33,
   "metadata": {},
   "outputs": [
    {
     "name": "stdout",
     "output_type": "stream",
     "text": [
      "Loss: 0.9555766771270394\n"
     ]
    }
   ],
   "source": [
    "# Test\n",
    "test_loss = 0\n",
    "s = 0.\n",
    "for id_user in range(nb_users):\n",
    "    input = Variable(training_set[id_user]).unsqueeze(0)\n",
    "    target = Variable(test_set[id_user]).unsqueeze(0)\n",
    "    if torch.sum(target.data > 0) > 0:\n",
    "        output = sae(input)\n",
    "        target.require_grad = False\n",
    "        output[target == 0] = 0\n",
    "        loss = criterion(output, target)\n",
    "        mean_corrector = nb_movies / float(torch.sum(target.data > 0)+1e-10)\n",
    "        test_loss += np.sqrt(loss.item() * mean_corrector)\n",
    "        s += 1.\n",
    "print('Loss: {}'.format(test_loss/s))"
   ]
  }
 ],
 "metadata": {
  "kernelspec": {
   "display_name": "Python 3",
   "language": "python",
   "name": "python3"
  },
  "language_info": {
   "codemirror_mode": {
    "name": "ipython",
    "version": 3
   },
   "file_extension": ".py",
   "mimetype": "text/x-python",
   "name": "python",
   "nbconvert_exporter": "python",
   "pygments_lexer": "ipython3",
   "version": "3.6.8"
  }
 },
 "nbformat": 4,
 "nbformat_minor": 2
}
